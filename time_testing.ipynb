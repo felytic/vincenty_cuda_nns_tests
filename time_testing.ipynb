{
 "cells": [
  {
   "cell_type": "code",
   "execution_count": 3,
   "metadata": {},
   "outputs": [],
   "source": [
    "from time import time, sleep\n",
    "from functools import reduce\n",
    "\n",
    "import numpy as np\n",
    "import pandas as pd\n",
    "import geopandas as gpd\n",
    "\n",
    "import seaborn as sns\n",
    "import matplotlib.pyplot as plt\n",
    "\n",
    "from sklearn.neighbors import BallTree, NearestNeighbors\n",
    "from vincenty_cuda_nns import CudaTree\n",
    "from brute_cuda import brute_cuda\n",
    "from brute_cpu import brute_cpu, compiled_vincenty, plain_vincenty, stupid_cpu\n",
    "\n",
    "\n",
    "plt.rcParams['figure.figsize'] = [16, 8]"
   ]
  },
  {
   "cell_type": "code",
   "execution_count": 4,
   "metadata": {},
   "outputs": [
    {
     "data": {
      "text/plain": [
       "array([[ 30.32682419,  50.38022614],\n",
       "       [ 30.15469742,  50.50265884],\n",
       "       [ 31.06276703,  50.3793869 ],\n",
       "       ..., \n",
       "       [ 30.46461868,  50.41419601],\n",
       "       [ 30.3853302 ,  50.47689819],\n",
       "       [ 30.51917267,  50.40744781]], dtype=float32)"
      ]
     },
     "execution_count": 4,
     "metadata": {},
     "output_type": "execute_result"
    }
   ],
   "source": [
    "df = gpd.read_file('datasets/points_1kk.geojson')\n",
    "X = np.stack(df['geometry']).astype(np.float32)\n",
    "X"
   ]
  },
  {
   "cell_type": "code",
   "execution_count": 5,
   "metadata": {},
   "outputs": [],
   "source": [
    "TIME_LIMIT = 1\n",
    "LEN_LIMIT = len(X)\n",
    "ABS_TIME_LIMIT = 600"
   ]
  },
  {
   "cell_type": "code",
   "execution_count": 6,
   "metadata": {},
   "outputs": [],
   "source": [
    "def test_func(func, name):\n",
    "    data = [{'len': 0, name: 0}]\n",
    "\n",
    "    t0 = time()\n",
    "\n",
    "    for i in range(500, LEN_LIMIT, 500):\n",
    "        try:\n",
    "            t1 = time()\n",
    "            func(X[:i])\n",
    "            t3 = time()\n",
    "    \n",
    "            data.append({\n",
    "                'len': i,\n",
    "                name: t3 - t1,\n",
    "            })\n",
    "        \n",
    "            if (ABS_TIME_LIMIT > 0) and ((t3 - t0) > ABS_TIME_LIMIT):\n",
    "                print('Reached absolute limit')\n",
    "                break\n",
    "                \n",
    "            if (TIME_LIMIT > 0) and ((t3 - t1) > TIME_LIMIT):\n",
    "                print('Reached time limit')\n",
    "                break\n",
    "                \n",
    "        except Exception as err:\n",
    "            print(err)\n",
    "            break\n",
    "    else:\n",
    "        print('Reached lenght limit')\n",
    " \n",
    "    return pd.DataFrame(data)"
   ]
  },
  {
   "cell_type": "code",
   "execution_count": 7,
   "metadata": {},
   "outputs": [],
   "source": [
    "def sk_parallel(data):\n",
    "    nn_searcher = NearestNeighbors(\n",
    "        algorithm='ball_tree',\n",
    "        metric=compiled_vincenty,\n",
    "        n_jobs=-1,\n",
    "        leaf_size=5\n",
    "    ).fit(data)\n",
    "\n",
    "    nn_searcher.kneighbors_graph(data, n_neighbors=1, mode='distance')\n",
    "    \n",
    "def sk_plain(data):\n",
    "    bt = BallTree(data, leaf_size=5, metric=plain_vincenty)\n",
    "    bt.query(data, 2)\n",
    "    \n",
    "def sk_ball_tree(data):\n",
    "    bt = BallTree(data, leaf_size=5, metric=compiled_vincenty)\n",
    "    bt.query(data, 2)\n",
    "\n",
    "def cuda_tree(data):\n",
    "    cuda_tree = CudaTree(data, leaf_size=5)\n",
    "    cuda_tree.query(n_neighbors=2)\n",
    "    \n",
    "sk_parallel(X[:10])\n",
    "sk_ball_tree(X[:10])\n",
    "cuda_tree(X[:10])"
   ]
  },
  {
   "cell_type": "code",
   "execution_count": 8,
   "metadata": {
    "scrolled": true
   },
   "outputs": [
    {
     "name": "stdout",
     "output_type": "stream",
     "text": [
      "Sklearn no compilation\n",
      "Reached time limit\n",
      "Brute CPU no compilation\n",
      "Reached time limit\n",
      "Sklearn parallel compiled\n",
      "Reached time limit\n",
      "Sklearn ball tree compiled\n",
      "Reached time limit\n",
      "Brute GPU\n",
      "Reached time limit\n",
      "Brute CPU compiles\n",
      "Reached time limit\n",
      "CUDA tree\n",
      "Reached time limit\n"
     ]
    }
   ],
   "source": [
    "print('Sklearn no compilation')\n",
    "df0 = test_func(sk_plain, 'sklearn_plain')\n",
    "sleep(1)\n",
    "\n",
    "print('Brute CPU no compilation')\n",
    "df1 = test_func(stupid_cpu, 'stupid_cpu')\n",
    "sleep(1)\n",
    "\n",
    "print('Sklearn parallel compiled')\n",
    "df2 = test_func(sk_parallel, 'sklearn_parallel')\n",
    "sleep(1)\n",
    "\n",
    "print('Sklearn ball tree compiled')\n",
    "df3 = test_func(sk_ball_tree, 'sklearn_ball_tree')\n",
    "sleep(1)\n",
    "\n",
    "print('Brute GPU')\n",
    "df4 = test_func(brute_cuda, 'brute_gpu')\n",
    "sleep(1)\n",
    "\n",
    "print('Brute CPU compiles')\n",
    "df5 = test_func(brute_cpu, 'brute_cpu')\n",
    "sleep(1)\n",
    "\n",
    "print('CUDA tree')\n",
    "df6 = test_func(cuda_tree, 'numba_ball_tree_gpu')\n",
    "sleep(1)"
   ]
  },
  {
   "cell_type": "code",
   "execution_count": 9,
   "metadata": {},
   "outputs": [],
   "source": [
    "dfs = [df0, df1 , df2 , df3 , df4 , df5 , df6]\n",
    "df_final = reduce(lambda left, right: pd.merge(left, right, on='len', how='outer'), dfs)"
   ]
  },
  {
   "cell_type": "code",
   "execution_count": 10,
   "metadata": {},
   "outputs": [
    {
     "data": {
      "text/plain": [
       "<matplotlib.axes._subplots.AxesSubplot at 0x7f322ef0af60>"
      ]
     },
     "execution_count": 10,
     "metadata": {},
     "output_type": "execute_result"
    },
    {
     "data": {
      "image/png": "[encoded data removed]",
      "text/plain": [
       "<Figure size 1152x576 with 1 Axes>"
      ]
     },
     "metadata": {
      "needs_background": "light"
     },
     "output_type": "display_data"
    }
   ],
   "source": [
    "sns.lineplot(x='len', y='stupid_cpu', data=df_final, color='cyan')\n",
    "sns.lineplot(x='len', y='sklearn_plain', data=df_final, color='magenta')\n",
    "sns.lineplot(x='len', y='sklearn_parallel', data=df_final, color='red')\n",
    "sns.lineplot(x='len', y='sklearn_ball_tree', data=df_final, color='orange')\n",
    "sns.lineplot(x='len', y='brute_gpu', data=df_final, color='green')\n",
    "sns.lineplot(x='len', y='brute_cpu', data=df_final, color='blue')\n",
    "sns.lineplot(x='len', y='numba_ball_tree_gpu', data=df_final, color='black')"
   ]
  },
  {
   "cell_type": "code",
   "execution_count": null,
   "metadata": {},
   "outputs": [],
   "source": []
  }
 ],
 "metadata": {
  "kernelspec": {
   "display_name": "dev",
   "language": "python",
   "name": "dev"
  },
  "language_info": {
   "codemirror_mode": {
    "name": "ipython",
    "version": 3
   },
   "file_extension": ".py",
   "mimetype": "text/x-python",
   "name": "python",
   "nbconvert_exporter": "python",
   "pygments_lexer": "ipython3",
   "version": "3.6.8"
  }
 },
 "nbformat": 4,
 "nbformat_minor": 2
}
